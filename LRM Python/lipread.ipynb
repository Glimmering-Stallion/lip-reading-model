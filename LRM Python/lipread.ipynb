{
 "cells": [
  {
   "cell_type": "code",
   "execution_count": 4,
   "id": "6e3d0dba",
   "metadata": {},
   "outputs": [],
   "source": [
    "# This is an implementation of the model found in this paper:\n",
    "# https://arxiv.org/pdf/1611.01599.pdf"
   ]
  },
  {
   "cell_type": "markdown",
   "id": "befdbe2c",
   "metadata": {},
   "source": [
    "# 1: Initial Setup"
   ]
  },
  {
   "cell_type": "code",
   "execution_count": null,
   "id": "68e0f226",
   "metadata": {},
   "outputs": [],
   "source": [
    "# install dependencies\n",
    "# pip install command:                  !pip install opencv-python matplotlib imageio gdown tensorflow\n",
    "# pip see installed packages command:   !pip list\n",
    "\n",
    "# create virtual environment (Mac):     python3 -m venv [name]\n",
    "# activate virtual environment (Mac):   source [name]/bin/activate\n",
    "# deactivate virtual environment (Mac): deactivate\n",
    "\n",
    "# add venv to jupyter kernels:          python -m ipykernel install --user --name=lipread --display-name \"Python (lipread)\""
   ]
  },
  {
   "cell_type": "code",
   "execution_count": 2,
   "id": "4eb43fcb",
   "metadata": {},
   "outputs": [],
   "source": [
    "# import modules\n",
    "import os\n",
    "import cv2\n",
    "import gdown\n",
    "import imageio\n",
    "import numpy as np\n",
    "from typing import List\n",
    "import tensorflow as tf\n",
    "from matplotlib import pyplot as plt"
   ]
  },
  {
   "cell_type": "code",
   "execution_count": 3,
   "id": "2fb5da73",
   "metadata": {},
   "outputs": [],
   "source": [
    "# prevent out of memory (OOM) errors by setting GPU memory consumption growth\n",
    "physical_devices = tf.config.list_physical_devices('GPU')\n",
    "\n",
    "try:\n",
    "    tf.config.xperimental.set_memory_growth(physical_devices[0], True)\n",
    "except:\n",
    "    pass"
   ]
  },
  {
   "cell_type": "markdown",
   "id": "2557181a",
   "metadata": {},
   "source": [
    "# 2: Data Loading/Preprocessing"
   ]
  },
  {
   "cell_type": "code",
   "execution_count": null,
   "id": "03fcb3eb",
   "metadata": {},
   "outputs": [
    {
     "name": "stdout",
     "output_type": "stream",
     "text": [
      "Data directory already exists, downloading skipped.\n"
     ]
    }
   ],
   "source": [
    "if not os.path.exists('../data'):\n",
    "    print(\"Data directory not found, downloading...\")\n",
    "    url = 'https://drive.google.com/uc?id=1YlvpDLix3S-U8fd-gqRwPcWXAXm8JwjL'\n",
    "    output = '../data.zip'\n",
    "    gdown.download(url, output, quiet = False)\n",
    "    gdown.extractall('../data.zip', output='../')\n",
    "else:\n",
    "    print(\"Data directory already exists, downloading skipped.\")"
   ]
  },
  {
   "cell_type": "code",
   "execution_count": 5,
   "id": "2023d31c",
   "metadata": {},
   "outputs": [
    {
     "name": "stdout",
     "output_type": "stream",
     "text": [
      "The vocabulary list: ['', 'a', 'b', 'c', 'd', 'e', 'f', 'g', 'h', 'i', 'j', 'k', 'l', 'm', 'n', 'o', 'p', 'q', 'r', 's', 't', 'u', 'v', 'w', 'x', 'y', 'z', \"'\", '?', '!', '0', '1', '2', '3', '4', '5', '6', '7', '8', '9', ' '] (size = 41)\n"
     ]
    }
   ],
   "source": [
    "# create array of every possible character expected to be encountered within annotations\n",
    "vocab = [char for char in \"abcdefghijklmnopqrstuvwxyz'?!0123456789 \"]\n",
    "\n",
    "# create a bidirectional mapping between characters and integers to enable easy conversion between character sequences and their corresponding numerical representations\n",
    "char_to_num = tf.keras.layers.StringLookup(vocabulary = vocab, oov_token = \"\") # convert characters to numbers\n",
    "num_to_char = tf.keras.layers.StringLookup(vocabulary = char_to_num.get_vocabulary(), oov_token = \"\", invert = True) # convert numbers to characters\n",
    "\n",
    "# debugging\n",
    "print(\n",
    "    f\"The vocabulary list: {char_to_num.get_vocabulary()} \"\n",
    "    f\"(size = {char_to_num.vocabulary_size()})\"\n",
    ")"
   ]
  },
  {
   "cell_type": "code",
   "execution_count": 6,
   "id": "47b91fff",
   "metadata": {},
   "outputs": [],
   "source": [
    "# data loading function (takes in a data path and outputs a list of floats)\n",
    "def load_video(path: str) -> List[float]:\n",
    "\n",
    "    cap = cv2.VideoCapture(path) # create a video capture instance\n",
    "\n",
    "    # loop through each frame and store in an array\n",
    "    frames = []\n",
    "    for _ in range(int(cap.get(cv2.CAP_PROP_FRAME_COUNT))):\n",
    "        _, frame = cap.read() # read in video frame data\n",
    "        frame = tf.image.rgb_to_grayscale(frame) # convert from RGB to grayscale to reduce amount of data to be processed\n",
    "        frames.append(frame[190:236, 80:220, :]) # static slicing for trimming down frame to isolate to mouth region\n",
    "    cap.release()\n",
    "\n",
    "    # standardization of frame data through Z-score normalization\n",
    "    mean = tf.math.reduce_mean(frames) # calculate mean\n",
    "    std = tf.math.reduce_std(tf.cast(frames, tf.float32)) # calculate standard deviation\n",
    "    return tf.cast((frames - mean), tf.float32) / std # return standardized frame data"
   ]
  },
  {
   "cell_type": "code",
   "execution_count": 7,
   "id": "8c7bd57b",
   "metadata": {},
   "outputs": [],
   "source": [
    "# function to load alignments (takes in a data path and outputs a list of strings)\n",
    "def load_alignments(path: str) -> List[str]:\n",
    "\n",
    "    # read in lines\n",
    "    with open(path, 'r') as f:\n",
    "        lines = f.readlines()\n",
    "\n",
    "    # loop through each line\n",
    "    tokens = []\n",
    "    for line in lines:\n",
    "        line = line.split() # split line into a list of elements by each space\n",
    "        # append third element of line to an array (ignore any lines that contain 'sil')\n",
    "        if line[2] != 'sil':\n",
    "            tokens = [*tokens, line[2]]\n",
    "            \n",
    "    return char_to_num(tf.reshape(tf.strings.unicode_split(tokens, input_encoding = 'UTF-8'), (-1)))[1:] # return the numerical values of characters found in the line elements"
   ]
  },
  {
   "cell_type": "code",
   "execution_count": 8,
   "id": "8da8b603",
   "metadata": {},
   "outputs": [],
   "source": [
    "# function to load data (takes in a data path and outputs frames and alignments)\n",
    "def load_data(path: str):\n",
    "    path = bytes.decode(path.numpy())\n",
    "\n",
    "    file_name = path.split('/')[-1].split('.')[0] # file name splitting for Mac\n",
    "    # file_name = path.split('\\\\')[-1].split('.')[0] # file name splitting for Windows\n",
    "\n",
    "    video_path = os.path.join('../data', 's1', f'{file_name}.mpg')\n",
    "    alignment_path = os.path.join('../data', 'alignments', 's1', f'{file_name}.align')\n",
    "\n",
    "    frames = load_video(video_path)\n",
    "    alignments = load_alignments(alignment_path)\n",
    "\n",
    "    return frames, alignments # return frames (75 frames x 46px height x 140px width x 1 color channel) and alignments (21 tokens)"
   ]
  },
  {
   "cell_type": "code",
   "execution_count": 9,
   "id": "c9971fc2",
   "metadata": {},
   "outputs": [
    {
     "data": {
      "image/png": "[encoded data removed]",
      "text/plain": [
       "<Figure size 640x480 with 1 Axes>"
      ]
     },
     "metadata": {},
     "output_type": "display_data"
    },
    {
     "name": "stdout",
     "output_type": "stream",
     "text": [
      "['i', 'n', 'b', 'l', 'u', 'e', 'a', 't', 'l', 's', 'i', 'x', 'n', 'o', 'w']\n"
     ]
    }
   ],
   "source": [
    "# debugging\n",
    "test_path = '../data/s1/bbal6n.mpg'\n",
    "test_frames, test_alignments = load_data(tf.convert_to_tensor(test_path))\n",
    "[plt.imshow(test_frames[f_index]) and plt.show() for f_index in range(1)] # display first n frames as plots\n",
    "print([bytes.decode(x) for x in num_to_char(test_alignments.numpy()).numpy()]) # display corresponding alignment as characters in an array"
   ]
  },
  {
   "cell_type": "code",
   "execution_count": 14,
   "id": "509f450c",
   "metadata": {},
   "outputs": [],
   "source": [
    "# mappable processing function (takes in a data path and outputs frames and alignments as a tuple of tensors)\n",
    "def mappable_function(path: str) -> List[str]:\n",
    "    result = tf.py_function(load_data, [path], (tf.float32, tf.int64)) # wrap load_data function as a TensorFlow operation\n",
    "    return result"
   ]
  },
  {
   "cell_type": "code",
   "execution_count": null,
   "id": "f55d3cf4",
   "metadata": {},
   "outputs": [],
   "source": [
    "data = tf.data.Dataset.list_files('../data/s1/*.mpg') # obtain all video files in given directory\n",
    "data = data.shuffle(500, reshuffle_each_iteration = False) # shuffle an amount of data specified by the cache size\n",
    "data = data.map(mappable_function) # transforms the dataset of file paths into a new dataset\n",
    "data = data.padded_batch(2, padded_shapes = ([75, None, None, None], [40])) # create new TensorFlow dataset containing batches of 2 elements (the frames tensor within each batch is padded to have a fixed size of 75 frames)\n",
    "data = data.prefetch(tf.data.AUTOTUNE) # fetch data from next iteration while current iteration is still being processed which mitigates bottlenecking (the argument 'tf.data.AUTOTUNE' is a special value that allows TensorFlow to automatically tune the prefetching buffer size based on available system resources)"
   ]
  },
  {
   "cell_type": "code",
   "execution_count": 16,
   "id": "888c728b",
   "metadata": {},
   "outputs": [],
   "source": [
    "# train/test data partitioning\n",
    "train = data.take(450)\n",
    "test = data.skip(450)"
   ]
  },
  {
   "cell_type": "code",
   "execution_count": 17,
   "id": "ccdc3a0d",
   "metadata": {},
   "outputs": [
    {
     "data": {
      "text/plain": [
       "<tf.Tensor: shape=(), dtype=string, numpy=b'etredatufourplease'>"
      ]
     },
     "execution_count": 17,
     "metadata": {},
     "output_type": "execute_result"
    }
   ],
   "source": [
    "# debugging\n",
    "sample_data = data.as_numpy_iterator().next(); sample_data[0] # obtain frames from data\n",
    "# imageio.mimsave('./animation.gif', test_data[0][1], duration = 100) # create an animated GIF file from the sequence of frames\n",
    "tf.strings.reduce_join([num_to_char(word) for word in sample_data[1][0]]) # display second alignment in batch as characters"
   ]
  },
  {
   "cell_type": "markdown",
   "id": "95d8e312",
   "metadata": {},
   "source": [
    "# 4: Deep Neural Network Architecture"
   ]
  },
  {
   "cell_type": "code",
   "execution_count": 18,
   "id": "067cc9b3",
   "metadata": {},
   "outputs": [],
   "source": [
    "from tensorflow import keras\n",
    "from keras.models import Sequential\n",
    "from keras.layers import Conv3D, LSTM, Dense, Dropout, Bidirectional, MaxPool3D, Activation, Reshape, SpatialDropout3D, BatchNormalization, TimeDistributed, Flatten\n",
    "from keras.optimizers import Adam\n",
    "from keras.callbacks import ModelCheckpoint, LearningRateScheduler"
   ]
  },
  {
   "cell_type": "code",
   "execution_count": 19,
   "id": "7b429341",
   "metadata": {},
   "outputs": [
    {
     "name": "stdout",
     "output_type": "stream",
     "text": [
      "Model: \"sequential\"\n",
      "_________________________________________________________________\n",
      " Layer (type)                Output Shape              Param #   \n",
      "=================================================================\n",
      " conv3d (Conv3D)             (None, 75, 46, 140, 128   3584      \n",
      "                             )                                   \n",
      "                                                                 \n",
      " activation (Activation)     (None, 75, 46, 140, 128   0         \n",
      "                             )                                   \n",
      "                                                                 \n",
      " max_pooling3d (MaxPooling3  (None, 75, 23, 70, 128)   0         \n",
      " D)                                                              \n",
      "                                                                 \n",
      " conv3d_1 (Conv3D)           (None, 75, 23, 70, 256)   884992    \n",
      "                                                                 \n",
      " activation_1 (Activation)   (None, 75, 23, 70, 256)   0         \n",
      "                                                                 \n",
      " max_pooling3d_1 (MaxPoolin  (None, 75, 11, 35, 256)   0         \n",
      " g3D)                                                            \n",
      "                                                                 \n",
      " conv3d_2 (Conv3D)           (None, 75, 11, 35, 75)    518475    \n",
      "                                                                 \n",
      " activation_2 (Activation)   (None, 75, 11, 35, 75)    0         \n",
      "                                                                 \n",
      " max_pooling3d_2 (MaxPoolin  (None, 75, 5, 17, 75)     0         \n",
      " g3D)                                                            \n",
      "                                                                 \n",
      " time_distributed (TimeDist  (None, 75, 6375)          0         \n",
      " ributed)                                                        \n",
      "                                                                 \n",
      " bidirectional (Bidirection  (None, 75, 256)           6660096   \n",
      " al)                                                             \n",
      "                                                                 \n",
      " dropout (Dropout)           (None, 75, 256)           0         \n",
      "                                                                 \n",
      " bidirectional_1 (Bidirecti  (None, 75, 256)           394240    \n",
      " onal)                                                           \n",
      "                                                                 \n",
      " dropout_1 (Dropout)         (None, 75, 256)           0         \n",
      "                                                                 \n",
      " dense (Dense)               (None, 75, 41)            10537     \n",
      "                                                                 \n",
      "=================================================================\n",
      "Total params: 8471924 (32.32 MB)\n",
      "Trainable params: 8471924 (32.32 MB)\n",
      "Non-trainable params: 0 (0.00 Byte)\n",
      "_________________________________________________________________\n",
      "1/1 [==============================] - 3s 3s/step\n"
     ]
    }
   ],
   "source": [
    "# neural network architecture\n",
    "def create_model(vocab_size: int) -> Sequential:\n",
    "    model = Sequential() # instantiation of model\n",
    "\n",
    "    # first convolution (128 convolution kernels, 3x3x3 kernel size, frame data shape, padding is same to preserve input shape)\n",
    "    model.add(Conv3D(128, 3, input_shape = (75, 46, 140, 1), padding = 'same'))\n",
    "    model.add(Activation('relu')) # provide non-linearity outputs using ReLU function\n",
    "    model.add(MaxPool3D((1, 2, 2))) # condense output down through max pooling\n",
    "\n",
    "    # second convolution (256 convolution kernels, 3x3x3 kernel size, frame data shape, padding is same to preserve input shape)\n",
    "    model.add(Conv3D(256, 3, padding = 'same'))\n",
    "    model.add(Activation('relu'))\n",
    "    model.add(MaxPool3D((1, 2, 2)))\n",
    "\n",
    "    # third convolution (75 convolution kernels, 3x3x3 kernel size, frame data shape, padding is same to preserve input shape)\n",
    "    model.add(Conv3D(75, 3, padding = 'same'))\n",
    "    model.add(Activation('relu'))\n",
    "    model.add(MaxPool3D((1, 2, 2)))\n",
    "\n",
    "    model.add(TimeDistributed(Reshape((-1,)))) # independently apply flatten operation on every temporal slice of input\n",
    "\n",
    "    # first bidirectional LSTM (128 LSTM hidden units, initialize weights with orthogonal matrices, return a sequence of outputs instead of a single final output)\n",
    "    model.add(Bidirectional(LSTM(128, kernel_initializer = 'Orthogonal', return_sequences = True)))\n",
    "    model.add(Dropout(0.5)) # drop out 50% of the units\n",
    "\n",
    "    # second bidirectional LSTM\n",
    "    model.add(Bidirectional(LSTM(128, kernel_initializer = 'Orthogonal', return_sequences = True)))\n",
    "    model.add(Dropout(0.5))\n",
    "\n",
    "    # fully connected dense layer (number of neurons in output layer equal to vocab size, weights of neurons initialized with he_normal initialization, activation function for output layer as softmax)\n",
    "    model.add(Dense(vocab_size, kernel_initializer = 'he_normal', activation = 'softmax'))\n",
    "\n",
    "    return model\n",
    "\n",
    "# debugging\n",
    "model = create_model(char_to_num.vocabulary_size())\n",
    "model.summary()\n",
    "y_hat = model.predict(sample_data[0])"
   ]
  },
  {
   "cell_type": "markdown",
   "id": "f8dc2026",
   "metadata": {},
   "source": [
    "# 5: Model Training"
   ]
  },
  {
   "cell_type": "code",
   "execution_count": 20,
   "id": "8e2cdf29",
   "metadata": {},
   "outputs": [],
   "source": [
    "# function for learning rate scheduling\n",
    "def scheduler(epoch, lr):\n",
    "    if epoch < 30:\n",
    "        return lr # output learning rate if epochs is below certain threshold\n",
    "    else:\n",
    "        return lr * tf.math.exp(-0.1) # otherwise reduce the learning rate using exponential function"
   ]
  },
  {
   "cell_type": "code",
   "execution_count": 21,
   "id": "2cdd0ab1",
   "metadata": {},
   "outputs": [],
   "source": [
    "# function for calculating loss between a continuous (unsegmented) time series and a target sequence\n",
    "def CTCLoss(y_true, y_pred):\n",
    "    batch_len = tf.cast(tf.shape(y_true)[0], dtype = 'int64') # get the number of examples in the batch\n",
    "    input_len = tf.cast(tf.shape(y_pred)[1], dtype = 'int64') # get the length of the predicted sequence\n",
    "    label_len = tf.cast(tf.shape(y_true)[1], dtype = 'int64') # get the length of the true sequence\n",
    "\n",
    "    # expand input_len and label_len to match the batch size\n",
    "    input_len = input_len * tf.ones(shape = (batch_len, 1), dtype = 'int64')\n",
    "    label_len = label_len * tf.ones(shape = (batch_len, 1), dtype = 'int64')\n",
    "\n",
    "    # compute and return the CTC loss using tf.keras.backend.ctc_batch_cost\n",
    "    loss = tf.keras.backend.ctc_batch_cost(y_true, y_pred, input_len, label_len)\n",
    "    return loss"
   ]
  },
  {
   "cell_type": "code",
   "execution_count": 22,
   "id": "a45a6be8",
   "metadata": {},
   "outputs": [],
   "source": [
    "# custom callback class that generates and prints examples after each epoch during training\n",
    "class ProduceExample(tf.keras.callbacks.Callback):\n",
    "\n",
    "    # constructor that initializes callback with a dataset iterator\n",
    "    def __init__(self, dataset) -> None:\n",
    "        self.dataset = dataset.as_numpy_iterator()\n",
    "\n",
    "    # function called at the end of each training epoch to generate and print examples\n",
    "    def on_epoch_end(self, epoch, logs = None) -> None:\n",
    "        data = self.dataset.next() # get the next batch of data from dataset\n",
    "        y_hat = self.model.predict(data[0]) # predict sequences using model\n",
    "        decoded = tf.keras.backend.ctc_decode(y_hat, [75, 75], greedy = False)[0][0].numpy() # decodes predicted sequences using CTC decoding\n",
    "\n",
    "        # loop through each example in the batch and print original ground truth sequences along with predicted sequences\n",
    "        # for x in range(len(y_hat)):\n",
    "        #     print('Original: ', tf.string.reduce_join([vocab[word] + ' ' for word in data[1][x]])).numpy().decode('utf-8')\n",
    "        #     print('Prediction: ', tf.string.reduce_join([vocab[word] + ' ' for word in decoded[x]])).numpy().decode('utf-8')\n",
    "        #     print('~' * 100) # print separator line after each example\n",
    "\n",
    "        # loop through each example in the batch and print original ground truth sequences along with predicted sequences\n",
    "        for x in range(len(y_hat)):\n",
    "            # convert original sequence to string format\n",
    "            str_tensor_original = tf.constant([vocab[word] + ' ' for word in data[1][x]])\n",
    "            str_original = tf.strings.reduce_join(str_tensor_original).numpy().decode('utf-8')\n",
    "            print('Original: ', str_original)\n",
    "\n",
    "            # convert predicted sequence to string format\n",
    "            str_tensor_prediction = tf.constant([vocab[word] + ' ' for word in decoded[x]])\n",
    "            str_prediction = tf.strings.reduce_join(str_tensor_prediction).numpy().decode('utf-8')\n",
    "            print('Prediction: ', str_prediction)\n",
    "\n",
    "            # separator line after each example\n",
    "            print('~' * 100)"
   ]
  },
  {
   "cell_type": "code",
   "execution_count": 23,
   "id": "ed303fc5",
   "metadata": {},
   "outputs": [],
   "source": [
    "# # compile model\n",
    "# model.compile(optimizer = Adam(learning_rate = 0.0001), loss = CTCLoss)\n",
    "\n",
    "# # define callbacks\n",
    "# checkpoint_callback = ModelCheckpoint('models/model.weights.h5', monitor = 'loss', save_weights_only = True) # responsible for saving the model's weights during training\n",
    "# schedule_callback = LearningRateScheduler(scheduler) # allows for scheduling changes to the learning rate during training\n",
    "# example_callback = ProduceExample(data) # responsible for generating and printing examples at the end of each epoch during training\n",
    "\n",
    "# # train model on given dataset for specified number of epochs\n",
    "# model.fit(train, validation_data = test, epochs = 100, callbacks = [checkpoint_callback, schedule_callback, example_callback])"
   ]
  },
  {
   "cell_type": "markdown",
   "id": "4e288e90",
   "metadata": {},
   "source": [
    "# 5: Model Testing"
   ]
  },
  {
   "cell_type": "code",
   "execution_count": 24,
   "id": "0305db9a",
   "metadata": {},
   "outputs": [],
   "source": [
    "# model.load_weights('models/checkpoint')\n",
    "# model.save_weights('models/model.weights.h5')"
   ]
  },
  {
   "cell_type": "code",
   "execution_count": 26,
   "id": "be5ef397",
   "metadata": {},
   "outputs": [
    {
     "data": {
      "text/plain": [
       "<tensorflow.python.checkpoint.checkpoint.CheckpointLoadStatus at 0x30d88ce50>"
      ]
     },
     "execution_count": 26,
     "metadata": {},
     "output_type": "execute_result"
    }
   ],
   "source": [
    "# extract model checkpoints externally\n",
    "# url = 'https://drive.google.com/uc?id=1vWscXs4Vt0a_1IH1-ct2TCgXAZT-N3_Y'\n",
    "# output = 'checkpoints.zip'\n",
    "# gdown.download(url, output, quiet = False)\n",
    "# gdown.extractall('checkpoints.zip', 'models')\n",
    "\n",
    "# load checkpoints locally\n",
    "# model.load_weights('models/model.weights.h5')\n",
    "model.load_weights('models/checkpoint')"
   ]
  },
  {
   "cell_type": "code",
   "execution_count": 27,
   "id": "a7887eee",
   "metadata": {},
   "outputs": [
    {
     "name": "stderr",
     "output_type": "stream",
     "text": [
      "[mpeg1video @ 0x30dd184c0] ac-tex damaged at 22 17\n",
      "[mpeg1video @ 0x30dd184c0] Warning MVs not available\n"
     ]
    },
    {
     "name": "stdout",
     "output_type": "stream",
     "text": [
      "1/1 [==============================] - 2s 2s/step\n",
      "REAL TEXT ~~~~~~~~~~~~~~~~~~~~~~~~~~~~~~~~~~~~~~~~~~~~~~~~~~~~~~~~~~~~~~~~~~~~~~~~~~~~~~~~~~~~~~~~~~~~~~~~~~~~\n",
      "PREDICTIONS ~~~~~~~~~~~~~~~~~~~~~~~~~~~~~~~~~~~~~~~~~~~~~~~~~~~~~~~~~~~~~~~~~~~~~~~~~~~~~~~~~~~~~~~~~~~~~~~~~~~~\n"
     ]
    },
    {
     "data": {
      "text/plain": [
       "[<tf.Tensor: shape=(), dtype=string, numpy=b'bin9green9by9b9oe9sooon'>,\n",
       " <tf.Tensor: shape=(), dtype=string, numpy=b'lay9blue9by9e9three9again'>]"
      ]
     },
     "execution_count": 27,
     "metadata": {},
     "output_type": "execute_result"
    }
   ],
   "source": [
    "# debugging\n",
    "test_data = test.as_numpy_iterator().next()\n",
    "y_hat = model.predict(test_data[0])\n",
    "decoded = tf.keras.backend.ctc_decode(y_hat, input_length = [75, 75], greedy = True)[0][0].numpy()\n",
    "\n",
    "# actual text\n",
    "print('REAL TEXT', '~' * 100)\n",
    "[tf.strings.reduce_join([num_to_char(word) for word in sentence]) for sentence in test_data[1]]\n",
    "\n",
    "# predicted text\n",
    "print('PREDICTIONS', '~' * 100)\n",
    "[tf.strings.reduce_join([num_to_char(word) for word in sentence]) for sentence in decoded]"
   ]
  },
  {
   "cell_type": "code",
   "execution_count": 28,
   "id": "56945c52",
   "metadata": {},
   "outputs": [
    {
     "name": "stdout",
     "output_type": "stream",
     "text": [
      "1/1 [==============================] - 1s 1s/step\n",
      "~~~~~~~~~~~~~~~~~~~~~~~~~~~~~~~~~~~~~~~~~~~~~~~~~~~~~~~~~~~~~~~~~~~~~~~~~~~~~~~~~~~~~~~~~~~~~~~~~~~~\n",
      "ACTUAL TEXT: etwhitewithininesoon\n",
      "~~~~~~~~~~~~~~~~~~~~~~~~~~~~~~~~~~~~~~~~~~~~~~~~~~~~~~~~~~~~~~~~~~~~~~~~~~~~~~~~~~~~~~~~~~~~~~~~~~~~\n",
      "PREDICTED TEXT: set white with i nine soon\n"
     ]
    }
   ],
   "source": [
    "sample = load_data(tf.convert_to_tensor('./data/s1/swwi9s.mpg')) # load in new video data\n",
    "y_hat = model.predict(tf.expand_dims(sample[0], axis = 0)) # perform prediction\n",
    "decoded = tf.keras.backend.ctc_decode(y_hat, input_length = [75], greedy = True)[0][0].numpy() # decode prediction\n",
    "\n",
    "# actual text\n",
    "print('~' * 100)\n",
    "actual_text = tf.strings.reduce_join([num_to_char(word) for word in sample[1]])\n",
    "print('ACTUAL TEXT:', actual_text.numpy().decode('utf-8'))\n",
    "\n",
    "# predicted text\n",
    "print('~' * 100)\n",
    "predicted_text = tf.strings.reduce_join([num_to_char(word) for word in decoded])\n",
    "print('PREDICTED TEXT:', ' '.join(predicted_text.numpy().decode('utf-8').split('9')))"
   ]
  }
 ],
 "metadata": {
  "kernelspec": {
   "display_name": "lipread",
   "language": "python",
   "name": "python3"
  },
  "language_info": {
   "codemirror_mode": {
    "name": "ipython",
    "version": 3
   },
   "file_extension": ".py",
   "mimetype": "text/x-python",
   "name": "python",
   "nbconvert_exporter": "python",
   "pygments_lexer": "ipython3",
   "version": "3.11.11"
  }
 },
 "nbformat": 4,
 "nbformat_minor": 5
}
